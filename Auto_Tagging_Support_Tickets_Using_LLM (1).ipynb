{
  "nbformat": 4,
  "nbformat_minor": 0,
  "metadata": {
    "colab": {
      "provenance": []
    },
    "kernelspec": {
      "name": "python3",
      "display_name": "Python 3"
    },
    "language_info": {
      "name": "python"
    }
  },
  "cells": [
    {
      "cell_type": "code",
      "execution_count": 4,
      "metadata": {
        "id": "rRlIl7pUY44n"
      },
      "outputs": [],
      "source": [
        "import google.generativeai as genai\n",
        "\n",
        "# You can get the API key from Google AI Studio and set it up securely in Colab\n",
        "from google.colab import userdata\n",
        "GOOGLE_API_KEY = userdata.get('GOOGLE_API_KEY')\n",
        "genai.configure(api_key=GOOGLE_API_KEY)\n",
        "model = genai.GenerativeModel('gemini-2.5-flash')"
      ]
    },
    {
      "cell_type": "code",
      "source": [
        "# A small, simulated dataset of support tickets\n",
        "support_tickets = [\n",
        "    \"My internet connection keeps dropping every few minutes, and I can't stay on a video call. It seems to be a hardware issue with the router.\",\n",
        "    \"I need to change my billing address. The last payment was declined. Please help me update my account details.\",\n",
        "    \"The software crashes every time I try to save a new document. I'm using version 2.1 on Windows 10.\",\n",
        "    \"My account is locked, and I can't reset my password. I'm not receiving the password reset email.\",\n",
        "    \"I'd like to request a new feature: a dark mode option for the mobile app.\",\n",
        "    \"I have been charged twice for the same subscription, and I want a refund for one of the payments.\",\n",
        "    \"My screen is frozen and the application is not responding. I've tried restarting but it didn't help.\",\n",
        "    \"I am unable to access my files after the latest software update. The files are gone from the dashboard.\",\n",
        "]\n",
        "\n",
        "# Define the list of possible tags\n",
        "possible_tags = [\n",
        "    \"Technical Issue\",\n",
        "    \"Billing and Payments\",\n",
        "    \"Account Management\",\n",
        "    \"Software Bug\",\n",
        "    \"Feature Request\",\n",
        "    \"Network Issue\",\n",
        "    \"Refund Request\",\n",
        "]"
      ],
      "metadata": {
        "id": "0apHT8K6beR4"
      },
      "execution_count": 5,
      "outputs": []
    },
    {
      "cell_type": "code",
      "source": [
        "def zero_shot_tagging(ticket_text, possible_tags):\n",
        "    tags_list = \", \".join(possible_tags)\n",
        "    prompt = f\"\"\"\n",
        "    Analyze the following support ticket and provide the top 3 most probable tags from the list provided.\n",
        "    The output should be a comma-separated list of tags, without any additional text or formatting.\n",
        "\n",
        "    Possible tags: {tags_list}\n",
        "\n",
        "    Support Ticket:\n",
        "    \"{ticket_text}\"\n",
        "\n",
        "    Top 3 tags:\n",
        "    \"\"\"\n",
        "    response = model.generate_content(prompt)\n",
        "    try:\n",
        "        # Some simple post-processing to get the list of tags\n",
        "        # and handle potential malformed output from the model\n",
        "        tags = [tag.strip() for tag in response.text.split(',')[:3]]\n",
        "    except (AttributeError, IndexError):\n",
        "        tags = [\"Could not tag\"]\n",
        "    return tags\n",
        "\n",
        "# Run the zero-shot tagging on a sample ticket\n",
        "for ticket in support_tickets:\n",
        "    tags = zero_shot_tagging(ticket, possible_tags)\n",
        "    print(f\"Ticket: '{ticket}'\")\n",
        "    print(f\"Zero-Shot Tags: {', '.join(tags)}\\n\")"
      ],
      "metadata": {
        "colab": {
          "base_uri": "https://localhost:8080/",
          "height": 434
        },
        "id": "DKBH4DU3kseA",
        "outputId": "003692df-e511-46c9-b4ee-6063f690ce63"
      },
      "execution_count": 6,
      "outputs": [
        {
          "output_type": "stream",
          "name": "stdout",
          "text": [
            "Ticket: 'My internet connection keeps dropping every few minutes, and I can't stay on a video call. It seems to be a hardware issue with the router.'\n",
            "Zero-Shot Tags: Network Issue, Technical Issue, Software Bug\n",
            "\n",
            "Ticket: 'I need to change my billing address. The last payment was declined. Please help me update my account details.'\n",
            "Zero-Shot Tags: Billing and Payments, Account Management, Technical Issue\n",
            "\n",
            "Ticket: 'The software crashes every time I try to save a new document. I'm using version 2.1 on Windows 10.'\n",
            "Zero-Shot Tags: Software Bug, Technical Issue, Network Issue\n",
            "\n",
            "Ticket: 'My account is locked, and I can't reset my password. I'm not receiving the password reset email.'\n",
            "Zero-Shot Tags: Account Management, Technical Issue, Software Bug\n",
            "\n",
            "Ticket: 'I'd like to request a new feature: a dark mode option for the mobile app.'\n",
            "Zero-Shot Tags: Feature Request, Technical Issue, Software Bug\n",
            "\n",
            "Ticket: 'I have been charged twice for the same subscription, and I want a refund for one of the payments.'\n",
            "Zero-Shot Tags: Billing and Payments, Refund Request, Technical Issue\n",
            "\n",
            "Ticket: 'My screen is frozen and the application is not responding. I've tried restarting but it didn't help.'\n",
            "Zero-Shot Tags: Technical Issue, Software Bug, Network Issue\n",
            "\n",
            "Ticket: 'I am unable to access my files after the latest software update. The files are gone from the dashboard.'\n",
            "Zero-Shot Tags: Software Bug, Technical Issue, Account Management\n",
            "\n"
          ]
        }
      ]
    },
    {
      "cell_type": "code",
      "source": [
        "def few_shot_tagging(ticket_text, possible_tags):\n",
        "    tags_list = \", \".join(possible_tags)\n",
        "    prompt = f\"\"\"\n",
        "    Analyze the following support tickets and provide the top 3 most probable tags from the list provided.\n",
        "    The output should be a comma-separated list of tags, without any additional text or formatting.\n",
        "\n",
        "    Possible tags: {tags_list}\n",
        "\n",
        "    Examples:\n",
        "    Support Ticket: \"My keyboard is not working after the latest update.\"\n",
        "    Top 3 tags: Software Bug, Technical Issue, Hardware Issue\n",
        "\n",
        "    Support Ticket: \"I was charged twice for my monthly subscription. Can you please issue a refund?\"\n",
        "    Top 3 tags: Billing and Payments, Refund Request, Technical Issue\n",
        "\n",
        "    Support Ticket: \"I want to suggest a new feature for the mobile application to export data.\"\n",
        "    Top 3 tags: Feature Request, Software Bug, Technical Issue\n",
        "\n",
        "    Support Ticket:\n",
        "    \"{ticket_text}\"\n",
        "\n",
        "    Top 3 tags:\n",
        "    \"\"\"\n",
        "    response = model.generate_content(prompt)\n",
        "    try:\n",
        "        tags = [tag.strip() for tag in response.text.split(',')[:3]]\n",
        "    except (AttributeError, IndexError):\n",
        "        tags = [\"Could not tag\"]\n",
        "    return tags\n",
        "\n",
        "# Run the few-shot tagging on the same sample tickets\n",
        "for ticket in support_tickets:\n",
        "    tags = few_shot_tagging(ticket, possible_tags)\n",
        "    print(f\"Ticket: '{ticket}'\")\n",
        "    print(f\"Few-Shot Tags: {', '.join(tags)}\\n\")"
      ],
      "metadata": {
        "colab": {
          "base_uri": "https://localhost:8080/",
          "height": 434
        },
        "id": "hoRibXTGk05Z",
        "outputId": "f04fbd78-ac0e-4306-cfb5-a06692dd79af"
      },
      "execution_count": 7,
      "outputs": [
        {
          "output_type": "stream",
          "name": "stdout",
          "text": [
            "Ticket: 'My internet connection keeps dropping every few minutes, and I can't stay on a video call. It seems to be a hardware issue with the router.'\n",
            "Few-Shot Tags: Network Issue, Technical Issue, Software Bug\n",
            "\n",
            "Ticket: 'I need to change my billing address. The last payment was declined. Please help me update my account details.'\n",
            "Few-Shot Tags: Billing and Payments, Account Management, Technical Issue\n",
            "\n",
            "Ticket: 'The software crashes every time I try to save a new document. I'm using version 2.1 on Windows 10.'\n",
            "Few-Shot Tags: Software Bug, Technical Issue, Network Issue\n",
            "\n",
            "Ticket: 'My account is locked, and I can't reset my password. I'm not receiving the password reset email.'\n",
            "Few-Shot Tags: Account Management, Technical Issue, Software Bug\n",
            "\n",
            "Ticket: 'I'd like to request a new feature: a dark mode option for the mobile app.'\n",
            "Few-Shot Tags: Feature Request, Software Bug, Technical Issue\n",
            "\n",
            "Ticket: 'I have been charged twice for the same subscription, and I want a refund for one of the payments.'\n",
            "Few-Shot Tags: Billing and Payments, Refund Request, Technical Issue\n",
            "\n",
            "Ticket: 'My screen is frozen and the application is not responding. I've tried restarting but it didn't help.'\n",
            "Few-Shot Tags: Software Bug, Technical Issue, Network Issue\n",
            "\n",
            "Ticket: 'I am unable to access my files after the latest software update. The files are gone from the dashboard.'\n",
            "Few-Shot Tags: Software Bug, Technical Issue, Account Management\n",
            "\n"
          ]
        }
      ]
    }
  ]
}